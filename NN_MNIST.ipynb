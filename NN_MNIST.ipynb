{
  "nbformat": 4,
  "nbformat_minor": 0,
  "metadata": {
    "colab": {
      "name": "NN_MNIST.ipynb",
      "version": "0.3.2",
      "provenance": [],
      "include_colab_link": true
    },
    "kernelspec": {
      "name": "python3",
      "display_name": "Python 3"
    },
    "accelerator": "TPU"
  },
  "cells": [
    {
      "cell_type": "markdown",
      "metadata": {
        "id": "view-in-github",
        "colab_type": "text"
      },
      "source": [
        "<a href=\"https://colab.research.google.com/github/Canakin21/DL/blob/master/NN_MNIST.ipynb\" target=\"_parent\"><img src=\"https://colab.research.google.com/assets/colab-badge.svg\" alt=\"Open In Colab\"/></a>"
      ]
    },
    {
      "cell_type": "code",
      "metadata": {
        "id": "DyfeiwAT2t4d",
        "colab_type": "code",
        "colab": {}
      },
      "source": [
        "%matplotlib inline\n",
        "\n",
        "import numpy as np\n",
        "import matplotlib.pyplot as plt\n",
        "from keras.datasets import mnist\n",
        "(x_train, y_train), (x_test, y_test) = mnist.load_data()"
      ],
      "execution_count": 0,
      "outputs": []
    },
    {
      "cell_type": "code",
      "metadata": {
        "id": "ffUZx_mg3B0l",
        "colab_type": "code",
        "outputId": "e0c5e050-235d-4e09-ff57-83e5d435f8d5",
        "colab": {
          "base_uri": "https://localhost:8080/",
          "height": 52
        }
      },
      "source": [
        "print('len(x_train)= %d\\n len(x_test)= %d' %(len(x_train),len(x_test)))"
      ],
      "execution_count": 0,
      "outputs": [
        {
          "output_type": "stream",
          "text": [
            "len(x_train)= 60000\n",
            " len(x_test)= 10000\n"
          ],
          "name": "stdout"
        }
      ]
    },
    {
      "cell_type": "code",
      "metadata": {
        "id": "M-9u9ygc3rf9",
        "colab_type": "code",
        "outputId": "84fcc4f6-1908-4936-fadb-48d046fabd7c",
        "colab": {
          "base_uri": "https://localhost:8080/",
          "height": 988
        }
      },
      "source": [
        "A=x_train[1]\n",
        "print(A)"
      ],
      "execution_count": 0,
      "outputs": [
        {
          "output_type": "stream",
          "text": [
            "[[  0   0   0   0   0   0   0   0   0   0   0   0   0   0   0   0   0   0\n",
            "    0   0   0   0   0   0   0   0   0   0]\n",
            " [  0   0   0   0   0   0   0   0   0   0   0   0   0   0   0   0   0   0\n",
            "    0   0   0   0   0   0   0   0   0   0]\n",
            " [  0   0   0   0   0   0   0   0   0   0   0   0   0   0   0   0   0   0\n",
            "    0   0   0   0   0   0   0   0   0   0]\n",
            " [  0   0   0   0   0   0   0   0   0   0   0   0   0   0   0   0   0   0\n",
            "    0   0   0   0   0   0   0   0   0   0]\n",
            " [  0   0   0   0   0   0   0   0   0   0   0   0   0   0   0  51 159 253\n",
            "  159  50   0   0   0   0   0   0   0   0]\n",
            " [  0   0   0   0   0   0   0   0   0   0   0   0   0   0  48 238 252 252\n",
            "  252 237   0   0   0   0   0   0   0   0]\n",
            " [  0   0   0   0   0   0   0   0   0   0   0   0   0  54 227 253 252 239\n",
            "  233 252  57   6   0   0   0   0   0   0]\n",
            " [  0   0   0   0   0   0   0   0   0   0   0  10  60 224 252 253 252 202\n",
            "   84 252 253 122   0   0   0   0   0   0]\n",
            " [  0   0   0   0   0   0   0   0   0   0   0 163 252 252 252 253 252 252\n",
            "   96 189 253 167   0   0   0   0   0   0]\n",
            " [  0   0   0   0   0   0   0   0   0   0  51 238 253 253 190 114 253 228\n",
            "   47  79 255 168   0   0   0   0   0   0]\n",
            " [  0   0   0   0   0   0   0   0   0  48 238 252 252 179  12  75 121  21\n",
            "    0   0 253 243  50   0   0   0   0   0]\n",
            " [  0   0   0   0   0   0   0   0  38 165 253 233 208  84   0   0   0   0\n",
            "    0   0 253 252 165   0   0   0   0   0]\n",
            " [  0   0   0   0   0   0   0   7 178 252 240  71  19  28   0   0   0   0\n",
            "    0   0 253 252 195   0   0   0   0   0]\n",
            " [  0   0   0   0   0   0   0  57 252 252  63   0   0   0   0   0   0   0\n",
            "    0   0 253 252 195   0   0   0   0   0]\n",
            " [  0   0   0   0   0   0   0 198 253 190   0   0   0   0   0   0   0   0\n",
            "    0   0 255 253 196   0   0   0   0   0]\n",
            " [  0   0   0   0   0   0  76 246 252 112   0   0   0   0   0   0   0   0\n",
            "    0   0 253 252 148   0   0   0   0   0]\n",
            " [  0   0   0   0   0   0  85 252 230  25   0   0   0   0   0   0   0   0\n",
            "    7 135 253 186  12   0   0   0   0   0]\n",
            " [  0   0   0   0   0   0  85 252 223   0   0   0   0   0   0   0   0   7\n",
            "  131 252 225  71   0   0   0   0   0   0]\n",
            " [  0   0   0   0   0   0  85 252 145   0   0   0   0   0   0   0  48 165\n",
            "  252 173   0   0   0   0   0   0   0   0]\n",
            " [  0   0   0   0   0   0  86 253 225   0   0   0   0   0   0 114 238 253\n",
            "  162   0   0   0   0   0   0   0   0   0]\n",
            " [  0   0   0   0   0   0  85 252 249 146  48  29  85 178 225 253 223 167\n",
            "   56   0   0   0   0   0   0   0   0   0]\n",
            " [  0   0   0   0   0   0  85 252 252 252 229 215 252 252 252 196 130   0\n",
            "    0   0   0   0   0   0   0   0   0   0]\n",
            " [  0   0   0   0   0   0  28 199 252 252 253 252 252 233 145   0   0   0\n",
            "    0   0   0   0   0   0   0   0   0   0]\n",
            " [  0   0   0   0   0   0   0  25 128 252 253 252 141  37   0   0   0   0\n",
            "    0   0   0   0   0   0   0   0   0   0]\n",
            " [  0   0   0   0   0   0   0   0   0   0   0   0   0   0   0   0   0   0\n",
            "    0   0   0   0   0   0   0   0   0   0]\n",
            " [  0   0   0   0   0   0   0   0   0   0   0   0   0   0   0   0   0   0\n",
            "    0   0   0   0   0   0   0   0   0   0]\n",
            " [  0   0   0   0   0   0   0   0   0   0   0   0   0   0   0   0   0   0\n",
            "    0   0   0   0   0   0   0   0   0   0]\n",
            " [  0   0   0   0   0   0   0   0   0   0   0   0   0   0   0   0   0   0\n",
            "    0   0   0   0   0   0   0   0   0   0]]\n"
          ],
          "name": "stdout"
        }
      ]
    },
    {
      "cell_type": "code",
      "metadata": {
        "id": "cXNVS_2e31je",
        "colab_type": "code",
        "outputId": "f1a627ae-7640-4236-a095-775262d36198",
        "colab": {
          "base_uri": "https://localhost:8080/",
          "height": 35
        }
      },
      "source": [
        "print(A.shape)"
      ],
      "execution_count": 0,
      "outputs": [
        {
          "output_type": "stream",
          "text": [
            "(28, 28)\n"
          ],
          "name": "stdout"
        }
      ]
    },
    {
      "cell_type": "code",
      "metadata": {
        "id": "39cI5JyR37Wl",
        "colab_type": "code",
        "outputId": "21cc3a0d-3dfe-4730-f15f-1b3f668da659",
        "colab": {
          "base_uri": "https://localhost:8080/",
          "height": 287
        }
      },
      "source": [
        "plt.imshow(A, cmap = 'Greys')"
      ],
      "execution_count": 0,
      "outputs": [
        {
          "output_type": "execute_result",
          "data": {
            "text/plain": [
              "<matplotlib.image.AxesImage at 0x7f321f457630>"
            ]
          },
          "metadata": {
            "tags": []
          },
          "execution_count": 62
        },
        {
          "output_type": "display_data",
          "data": {
            "image/png": "[encoded data removed]",
            "text/plain": [
              "<Figure size 432x288 with 1 Axes>"
            ]
          },
          "metadata": {
            "tags": []
          }
        }
      ]
    },
    {
      "cell_type": "code",
      "metadata": {
        "id": "jw2uwPct4SCV",
        "colab_type": "code",
        "outputId": "d26e106b-654f-4004-bd86-134f885a9222",
        "colab": {
          "base_uri": "https://localhost:8080/",
          "height": 35
        }
      },
      "source": [
        "print(y_train[1])"
      ],
      "execution_count": 0,
      "outputs": [
        {
          "output_type": "stream",
          "text": [
            "0\n"
          ],
          "name": "stdout"
        }
      ]
    },
    {
      "cell_type": "code",
      "metadata": {
        "id": "I-qorM3E4ZBU",
        "colab_type": "code",
        "colab": {}
      },
      "source": [
        "x_train = x_train.reshape(60000, 784)/255\n",
        "x_test = x_test.reshape(10000, 784)/255"
      ],
      "execution_count": 0,
      "outputs": []
    },
    {
      "cell_type": "code",
      "metadata": {
        "id": "wJeXnKkO4d5v",
        "colab_type": "code",
        "outputId": "9f9f42b6-63f1-4f19-8a87-688dd2cf58f8",
        "colab": {
          "base_uri": "https://localhost:8080/",
          "height": 35
        }
      },
      "source": [
        "from keras.utils import np_utils\n",
        "y_train = np_utils.to_categorical(y_train, 10)\n",
        "y_test = np_utils.to_categorical(y_test, 10)\n",
        "print(y_train[1])"
      ],
      "execution_count": 0,
      "outputs": [
        {
          "output_type": "stream",
          "text": [
            "[1. 0. 0. 0. 0. 0. 0. 0. 0. 0.]\n"
          ],
          "name": "stdout"
        }
      ]
    },
    {
      "cell_type": "code",
      "metadata": {
        "id": "ANbH81fZ4xiE",
        "colab_type": "code",
        "outputId": "b4699f3e-cb86-4b12-e1f0-d5501dee9a17",
        "colab": {
          "base_uri": "https://localhost:8080/",
          "height": 488
        }
      },
      "source": [
        "from keras.models import Sequential\n",
        "from keras.layers import Dense, Activation\n",
        "from keras.optimizers import SGD\n",
        "\n",
        "model = Sequential()\n",
        "\n",
        "\n",
        "model.add(Dense(8, input_dim=784))\n",
        "model.add(Activation('selu'))\n",
        "\n",
        "model.add(Dense(16))\n",
        "model.add(Activation('selu'))\n",
        "\n",
        "model.add(Dense(32))\n",
        "model.add(Activation('selu'))\n",
        "\n",
        "model.add(Dense(10))\n",
        "model.add(Activation('softmax'))\n",
        "\n",
        "model.compile(loss='mse', optimizer=SGD(lr=0.087), metrics=['accuracy'])\n",
        "\n",
        "model.summary()"
      ],
      "execution_count": 0,
      "outputs": [
        {
          "output_type": "stream",
          "text": [
            "W0620 04:20:12.966503 139854340466560 deprecation.py:323] From /usr/local/lib/python3.6/dist-packages/keras/backend/tensorflow_backend.py:3217: add_dispatch_support.<locals>.wrapper (from tensorflow.python.ops.array_ops) is deprecated and will be removed in a future version.\n",
            "Instructions for updating:\n",
            "Use tf.where in 2.0, which has the same broadcast rule as np.where\n"
          ],
          "name": "stderr"
        },
        {
          "output_type": "stream",
          "text": [
            "_________________________________________________________________\n",
            "Layer (type)                 Output Shape              Param #   \n",
            "=================================================================\n",
            "dense_28 (Dense)             (None, 8)                 6280      \n",
            "_________________________________________________________________\n",
            "activation_28 (Activation)   (None, 8)                 0         \n",
            "_________________________________________________________________\n",
            "dense_29 (Dense)             (None, 16)                144       \n",
            "_________________________________________________________________\n",
            "activation_29 (Activation)   (None, 16)                0         \n",
            "_________________________________________________________________\n",
            "dense_30 (Dense)             (None, 32)                544       \n",
            "_________________________________________________________________\n",
            "activation_30 (Activation)   (None, 32)                0         \n",
            "_________________________________________________________________\n",
            "dense_31 (Dense)             (None, 10)                330       \n",
            "_________________________________________________________________\n",
            "activation_31 (Activation)   (None, 10)                0         \n",
            "=================================================================\n",
            "Total params: 7,298\n",
            "Trainable params: 7,298\n",
            "Non-trainable params: 0\n",
            "_________________________________________________________________\n"
          ],
          "name": "stdout"
        }
      ]
    },
    {
      "cell_type": "code",
      "metadata": {
        "id": "hnhL4e-d5BBL",
        "colab_type": "code",
        "outputId": "866ab35a-7b4e-4651-fbe9-34cb385c2fb5",
        "colab": {
          "base_uri": "https://localhost:8080/",
          "height": 728
        }
      },
      "source": [
        "model.fit(x_train, y_train, batch_size=100, epochs=20)"
      ],
      "execution_count": 0,
      "outputs": [
        {
          "output_type": "stream",
          "text": [
            "Epoch 1/20\n",
            "60000/60000 [==============================] - 2s 28us/step - loss: 0.0707 - acc: 0.4833\n",
            "Epoch 2/20\n",
            "60000/60000 [==============================] - 1s 22us/step - loss: 0.0397 - acc: 0.7450\n",
            "Epoch 3/20\n",
            "60000/60000 [==============================] - 1s 21us/step - loss: 0.0300 - acc: 0.8005\n",
            "Epoch 4/20\n",
            "60000/60000 [==============================] - 1s 22us/step - loss: 0.0242 - acc: 0.8482\n",
            "Epoch 5/20\n",
            "60000/60000 [==============================] - 1s 22us/step - loss: 0.0209 - acc: 0.8679\n",
            "Epoch 6/20\n",
            "60000/60000 [==============================] - 1s 23us/step - loss: 0.0189 - acc: 0.8795\n",
            "Epoch 7/20\n",
            "60000/60000 [==============================] - 1s 22us/step - loss: 0.0177 - acc: 0.8872\n",
            "Epoch 8/20\n",
            "60000/60000 [==============================] - 1s 22us/step - loss: 0.0168 - acc: 0.8922\n",
            "Epoch 9/20\n",
            "60000/60000 [==============================] - 1s 22us/step - loss: 0.0161 - acc: 0.8966\n",
            "Epoch 10/20\n",
            "60000/60000 [==============================] - 1s 22us/step - loss: 0.0156 - acc: 0.8993\n",
            "Epoch 11/20\n",
            "60000/60000 [==============================] - 1s 21us/step - loss: 0.0151 - acc: 0.9021\n",
            "Epoch 12/20\n",
            "60000/60000 [==============================] - 1s 22us/step - loss: 0.0147 - acc: 0.9049\n",
            "Epoch 13/20\n",
            "60000/60000 [==============================] - 1s 22us/step - loss: 0.0143 - acc: 0.9066\n",
            "Epoch 14/20\n",
            "60000/60000 [==============================] - 1s 22us/step - loss: 0.0140 - acc: 0.9092\n",
            "Epoch 15/20\n",
            "60000/60000 [==============================] - 1s 22us/step - loss: 0.0138 - acc: 0.9107\n",
            "Epoch 16/20\n",
            "60000/60000 [==============================] - 1s 22us/step - loss: 0.0135 - acc: 0.9127\n",
            "Epoch 17/20\n",
            "60000/60000 [==============================] - 1s 22us/step - loss: 0.0133 - acc: 0.9140\n",
            "Epoch 18/20\n",
            "60000/60000 [==============================] - 1s 21us/step - loss: 0.0131 - acc: 0.9155\n",
            "Epoch 19/20\n",
            "60000/60000 [==============================] - 1s 22us/step - loss: 0.0129 - acc: 0.9163\n",
            "Epoch 20/20\n",
            "60000/60000 [==============================] - 1s 21us/step - loss: 0.0128 - acc: 0.9178\n"
          ],
          "name": "stdout"
        },
        {
          "output_type": "execute_result",
          "data": {
            "text/plain": [
              "<keras.callbacks.History at 0x7f321f4600f0>"
            ]
          },
          "metadata": {
            "tags": []
          },
          "execution_count": 67
        }
      ]
    },
    {
      "cell_type": "code",
      "metadata": {
        "id": "ujMc3c2t5kT6",
        "colab_type": "code",
        "outputId": "6f359e5d-af52-415c-967b-875601ca93a1",
        "colab": {
          "base_uri": "https://localhost:8080/",
          "height": 287
        }
      },
      "source": [
        "from ipywidgets import interact_manual\n",
        "\n",
        "predict = model.predict_classes(x_test)\n",
        "\n",
        "def test(測試編號):\n",
        "    plt.imshow(x_test[測試編號].reshape(28,28), cmap='Greys')\n",
        "    print('神經網路判斷為:', predict[測試編號])\n",
        "    \n",
        "test(1)"
      ],
      "execution_count": 0,
      "outputs": [
        {
          "output_type": "stream",
          "text": [
            "神經網路判斷為: 2\n"
          ],
          "name": "stdout"
        },
        {
          "output_type": "display_data",
          "data": {
            "image/png": "[encoded data removed]",
            "text/plain": [
              "<Figure size 432x288 with 1 Axes>"
            ]
          },
          "metadata": {
            "tags": []
          }
        }
      ]
    },
    {
      "cell_type": "code",
      "metadata": {
        "id": "Ww78jyQBARIq",
        "colab_type": "code",
        "outputId": "30d29fa1-40ef-4c9f-ca6e-e2054d0e496f",
        "colab": {
          "base_uri": "https://localhost:8080/",
          "height": 69
        }
      },
      "source": [
        "score = model.evaluate(x_test, y_test)\n",
        "\n",
        "print('loss:', score[0])\n",
        "print('正確率', score[1])"
      ],
      "execution_count": 0,
      "outputs": [
        {
          "output_type": "stream",
          "text": [
            "10000/10000 [==============================] - 0s 36us/step\n",
            "loss: 0.012750278019625694\n",
            "正確率 0.9176\n"
          ],
          "name": "stdout"
        }
      ]
    },
    {
      "cell_type": "code",
      "metadata": {
        "id": "YIicMILLHkhl",
        "colab_type": "code",
        "colab": {}
      },
      "source": [
        ""
      ],
      "execution_count": 0,
      "outputs": []
    }
  ]
}